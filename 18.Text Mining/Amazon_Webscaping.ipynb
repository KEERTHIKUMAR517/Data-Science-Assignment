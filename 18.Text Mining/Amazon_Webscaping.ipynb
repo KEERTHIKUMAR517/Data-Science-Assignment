{
 "cells": [
  {
   "cell_type": "code",
   "execution_count": 3,
   "id": "f44558e0",
   "metadata": {
    "ExecuteTime": {
     "end_time": "2021-12-19T13:38:39.302474Z",
     "start_time": "2021-12-19T13:38:34.908990Z"
    }
   },
   "outputs": [
    {
     "name": "stdout",
     "output_type": "stream",
     "text": [
      "Collecting beautifulsoup\n",
      "  Using cached BeautifulSoup-3.2.2.tar.gz (32 kB)\n",
      "  Using cached BeautifulSoup-3.2.1.tar.gz (31 kB)\n",
      "  Using cached BeautifulSoup-3.2.0.tar.gz (31 kB)\n"
     ]
    },
    {
     "name": "stderr",
     "output_type": "stream",
     "text": [
      "    ERROR: Command errored out with exit status 1:\n",
      "     command: 'C:\\Users\\KEERTHI KUMAR\\anaconda3\\python.exe' -c 'import sys, setuptools, tokenize; sys.argv[0] = '\"'\"'C:\\\\Users\\\\KEERTHI KUMAR\\\\AppData\\\\Local\\\\Temp\\\\pip-install-ibdxiq0j\\\\beautifulsoup_547a4344b3ab4c5db84767e51edd16f2\\\\setup.py'\"'\"'; __file__='\"'\"'C:\\\\Users\\\\KEERTHI KUMAR\\\\AppData\\\\Local\\\\Temp\\\\pip-install-ibdxiq0j\\\\beautifulsoup_547a4344b3ab4c5db84767e51edd16f2\\\\setup.py'\"'\"';f=getattr(tokenize, '\"'\"'open'\"'\"', open)(__file__);code=f.read().replace('\"'\"'\\r\\n'\"'\"', '\"'\"'\\n'\"'\"');f.close();exec(compile(code, __file__, '\"'\"'exec'\"'\"'))' egg_info --egg-base 'C:\\Users\\KEERTHI KUMAR\\AppData\\Local\\Temp\\pip-pip-egg-info-nie53z6i'\n",
      "         cwd: C:\\Users\\KEERTHI KUMAR\\AppData\\Local\\Temp\\pip-install-ibdxiq0j\\beautifulsoup_547a4344b3ab4c5db84767e51edd16f2\\\n",
      "    Complete output (6 lines):\n",
      "    Traceback (most recent call last):\n",
      "      File \"<string>\", line 1, in <module>\n",
      "      File \"C:\\Users\\KEERTHI KUMAR\\AppData\\Local\\Temp\\pip-install-ibdxiq0j\\beautifulsoup_547a4344b3ab4c5db84767e51edd16f2\\setup.py\", line 3\n",
      "        \"You're trying to run a very old release of Beautiful Soup under Python 3. This will not work.\"<>\"Please use Beautiful Soup 4, available through the pip package 'beautifulsoup4'.\"\n",
      "                                                                                                        ^\n",
      "    SyntaxError: invalid syntax\n",
      "    ----------------------------------------\n",
      "WARNING: Discarding https://files.pythonhosted.org/packages/40/f2/6c9f2f3e696ee6a1fb0e4d7850617e224ed2b0b1e872110abffeca2a09d4/BeautifulSoup-3.2.2.tar.gz#sha256=a04169602bff6e3138b1259dbbf491f5a27f9499dea9a8fbafd48843f9d89970 (from https://pypi.org/simple/beautifulsoup/). Command errored out with exit status 1: python setup.py egg_info Check the logs for full command output.\n",
      "    ERROR: Command errored out with exit status 1:\n",
      "     command: 'C:\\Users\\KEERTHI KUMAR\\anaconda3\\python.exe' -c 'import sys, setuptools, tokenize; sys.argv[0] = '\"'\"'C:\\\\Users\\\\KEERTHI KUMAR\\\\AppData\\\\Local\\\\Temp\\\\pip-install-ibdxiq0j\\\\beautifulsoup_e067a6941d7f4e11a502134d1f03982d\\\\setup.py'\"'\"'; __file__='\"'\"'C:\\\\Users\\\\KEERTHI KUMAR\\\\AppData\\\\Local\\\\Temp\\\\pip-install-ibdxiq0j\\\\beautifulsoup_e067a6941d7f4e11a502134d1f03982d\\\\setup.py'\"'\"';f=getattr(tokenize, '\"'\"'open'\"'\"', open)(__file__);code=f.read().replace('\"'\"'\\r\\n'\"'\"', '\"'\"'\\n'\"'\"');f.close();exec(compile(code, __file__, '\"'\"'exec'\"'\"'))' egg_info --egg-base 'C:\\Users\\KEERTHI KUMAR\\AppData\\Local\\Temp\\pip-pip-egg-info-4c8iow0r'\n",
      "         cwd: C:\\Users\\KEERTHI KUMAR\\AppData\\Local\\Temp\\pip-install-ibdxiq0j\\beautifulsoup_e067a6941d7f4e11a502134d1f03982d\\\n",
      "    Complete output (6 lines):\n",
      "    Traceback (most recent call last):\n",
      "      File \"<string>\", line 1, in <module>\n",
      "      File \"C:\\Users\\KEERTHI KUMAR\\AppData\\Local\\Temp\\pip-install-ibdxiq0j\\beautifulsoup_e067a6941d7f4e11a502134d1f03982d\\setup.py\", line 22\n",
      "        print \"Unit tests have failed!\"\n",
      "              ^\n",
      "    SyntaxError: Missing parentheses in call to 'print'. Did you mean print(\"Unit tests have failed!\")?\n",
      "    ----------------------------------------\n",
      "WARNING: Discarding https://files.pythonhosted.org/packages/1e/ee/295988deca1a5a7accd783d0dfe14524867e31abb05b6c0eeceee49c759d/BeautifulSoup-3.2.1.tar.gz#sha256=6a8cb4401111e011b579c8c52a51cdab970041cc543814bbd9577a4529fe1cdb (from https://pypi.org/simple/beautifulsoup/). Command errored out with exit status 1: python setup.py egg_info Check the logs for full command output.\n",
      "    ERROR: Command errored out with exit status 1:\n",
      "     command: 'C:\\Users\\KEERTHI KUMAR\\anaconda3\\python.exe' -c 'import sys, setuptools, tokenize; sys.argv[0] = '\"'\"'C:\\\\Users\\\\KEERTHI KUMAR\\\\AppData\\\\Local\\\\Temp\\\\pip-install-ibdxiq0j\\\\beautifulsoup_c427603f04ac43baa6196bf972522cd3\\\\setup.py'\"'\"'; __file__='\"'\"'C:\\\\Users\\\\KEERTHI KUMAR\\\\AppData\\\\Local\\\\Temp\\\\pip-install-ibdxiq0j\\\\beautifulsoup_c427603f04ac43baa6196bf972522cd3\\\\setup.py'\"'\"';f=getattr(tokenize, '\"'\"'open'\"'\"', open)(__file__);code=f.read().replace('\"'\"'\\r\\n'\"'\"', '\"'\"'\\n'\"'\"');f.close();exec(compile(code, __file__, '\"'\"'exec'\"'\"'))' egg_info --egg-base 'C:\\Users\\KEERTHI KUMAR\\AppData\\Local\\Temp\\pip-pip-egg-info-6k3q7v8d'\n",
      "         cwd: C:\\Users\\KEERTHI KUMAR\\AppData\\Local\\Temp\\pip-install-ibdxiq0j\\beautifulsoup_c427603f04ac43baa6196bf972522cd3\\\n",
      "    Complete output (6 lines):\n",
      "    Traceback (most recent call last):\n",
      "      File \"<string>\", line 1, in <module>\n",
      "      File \"C:\\Users\\KEERTHI KUMAR\\AppData\\Local\\Temp\\pip-install-ibdxiq0j\\beautifulsoup_c427603f04ac43baa6196bf972522cd3\\setup.py\", line 22\n",
      "        print \"Unit tests have failed!\"\n",
      "              ^\n",
      "    SyntaxError: Missing parentheses in call to 'print'. Did you mean print(\"Unit tests have failed!\")?\n",
      "    ----------------------------------------\n",
      "WARNING: Discarding https://files.pythonhosted.org/packages/33/fe/15326560884f20d792d3ffc7fe8f639aab88647c9d46509a240d9bfbb6b1/BeautifulSoup-3.2.0.tar.gz#sha256=0dc52d07516c1665c9dd9f0a390a7a054bfb7b147a50b2866fb116b8909dfd37 (from https://pypi.org/simple/beautifulsoup/). Command errored out with exit status 1: python setup.py egg_info Check the logs for full command output.\n",
      "ERROR: Could not find a version that satisfies the requirement beautifulsoup\n",
      "ERROR: No matching distribution found for beautifulsoup\n"
     ]
    }
   ],
   "source": [
    "!pip install beautifulsoup"
   ]
  },
  {
   "cell_type": "markdown",
   "id": "35a7fe45",
   "metadata": {},
   "source": [
    "# Import Necessary Library"
   ]
  },
  {
   "cell_type": "code",
   "execution_count": 4,
   "id": "4fee6243",
   "metadata": {
    "ExecuteTime": {
     "end_time": "2021-12-19T13:39:16.610511Z",
     "start_time": "2021-12-19T13:39:16.510051Z"
    }
   },
   "outputs": [],
   "source": [
    "from bs4 import BeautifulSoup as bs\n",
    "import requests\n"
   ]
  },
  {
   "cell_type": "code",
   "execution_count": 5,
   "id": "d5bd3b31",
   "metadata": {
    "ExecuteTime": {
     "end_time": "2021-12-19T13:39:57.913833Z",
     "start_time": "2021-12-19T13:39:57.901866Z"
    }
   },
   "outputs": [],
   "source": [
    "link = 'https://www.amazon.in/boAt-Rockerz-255-Pro-Earphones/dp/B08TV2P1N8/ref=sr_1_1?keywords=boat+rockerz+255+pro+plus&qid=1639920979&s=electronics&sprefix=boat+ro%2Celectronics%2C208&sr=1-1'"
   ]
  },
  {
   "cell_type": "code",
   "execution_count": 7,
   "id": "ad4fd21d",
   "metadata": {
    "ExecuteTime": {
     "end_time": "2021-12-19T13:40:26.184920Z",
     "start_time": "2021-12-19T13:40:25.933632Z"
    }
   },
   "outputs": [
    {
     "data": {
      "text/plain": [
       "<Response [503]>"
      ]
     },
     "execution_count": 7,
     "metadata": {},
     "output_type": "execute_result"
    }
   ],
   "source": [
    "page = requests.get(link)\n",
    "page"
   ]
  },
  {
   "cell_type": "code",
   "execution_count": 8,
   "id": "c3563433",
   "metadata": {
    "ExecuteTime": {
     "end_time": "2021-12-19T13:40:36.250039Z",
     "start_time": "2021-12-19T13:40:36.237106Z"
    }
   },
   "outputs": [
    {
     "data": {
      "text/plain": [
       "b'<!DOCTYPE html>\\n<!--[if lt IE 7]> <html lang=\"en-us\" class=\"a-no-js a-lt-ie9 a-lt-ie8 a-lt-ie7\"> <![endif]-->\\n<!--[if IE 7]>    <html lang=\"en-us\" class=\"a-no-js a-lt-ie9 a-lt-ie8\"> <![endif]-->\\n<!--[if IE 8]>    <html lang=\"en-us\" class=\"a-no-js a-lt-ie9\"> <![endif]-->\\n<!--[if gt IE 8]><!-->\\n<html class=\"a-no-js\" lang=\"en-us\"><!--<![endif]--><head>\\n<meta http-equiv=\"content-type\" content=\"text/html; charset=UTF-8\">\\n<meta charset=\"utf-8\">\\n<meta http-equiv=\"X-UA-Compatible\" content=\"IE=edge,chrome=1\">\\n<title dir=\"ltr\">Amazon.in</title>\\n<meta name=\"viewport\" content=\"width=device-width\">\\n<link rel=\"stylesheet\" href=\"https://images-na.ssl-images-amazon.com/images/G/01/AUIClients/AmazonUI-3c913031596ca78a3768f4e934b1cc02ce238101.secure.min._V1_.css\">\\n<script>\\n\\nif (true === true) {\\n    var ue_t0 = (+ new Date()),\\n        ue_csm = window,\\n        ue = { t0: ue_t0, d: function() { return (+new Date() - ue_t0); } },\\n        ue_furl = \"fls-eu.amazon.in\",\\n        ue_mid = \"A21TJRUUN4KGV\",\\n        ue_sid = (document.cookie.match(/session-id=([0-9-]+)/) || [])[1],\\n        ue_sn = \"opfcaptcha.amazon.in\",\\n        ue_id = \\'8HWAD918T3ZE7K85K1X6\\';\\n}\\n</script>\\n</head>\\n<body>\\n\\n<!--\\n        To discuss automated access to Amazon data please contact api-services-support@amazon.com.\\n        For information about migrating to our APIs refer to our Marketplace APIs at https://developer.amazonservices.in/ref=rm_c_sv, or our Product Advertising API at https://affiliate-program.amazon.in/gp/advertising/api/detail/main.html/ref=rm_c_ac for advertising use cases.\\n-->\\n\\n<!--\\nCorreios.DoNotSend\\n-->\\n\\n<div class=\"a-container a-padding-double-large\" style=\"min-width:350px;padding:44px 0 !important\">\\n\\n    <div class=\"a-row a-spacing-double-large\" style=\"width: 350px; margin: 0 auto\">\\n\\n        <div class=\"a-row a-spacing-medium a-text-center\"><i class=\"a-icon a-logo\"></i></div>\\n\\n        <div class=\"a-box a-alert a-alert-info a-spacing-base\">\\n            <div class=\"a-box-inner\">\\n                <i class=\"a-icon a-icon-alert\"></i>\\n                <h4>Enter the characters you see below</h4>\\n                <p class=\"a-last\">Sorry, we just need to make sure you\\'re not a robot. For best results, please make sure your browser is accepting cookies.</p>\\n                </div>\\n            </div>\\n\\n            <div class=\"a-section\">\\n\\n                <div class=\"a-box a-color-offset-background\">\\n                    <div class=\"a-box-inner a-padding-extra-large\">\\n\\n                        <form method=\"get\" action=\"/errors/validateCaptcha\" name=\"\">\\n                            <input type=hidden name=\"amzn\" value=\"M90wHiUYyh8oHY0CvRJ20g==\" /><input type=hidden name=\"amzn-r\" value=\"&#047;boAt&#045;Rockerz&#045;255&#045;Pro&#045;Earphones&#047;dp&#047;B08TV2P1N8&#047;ref&#061;sr_1_1?keywords&#061;boat&#043;rockerz&#043;255&#043;pro&#043;plus&amp;qid&#061;1639920979&amp;s&#061;electronics&amp;sprefix&#061;boat&#043;ro&#037;2Celectronics&#037;2C208&amp;sr&#061;1&#045;1\" />\\n                            <div class=\"a-row a-spacing-large\">\\n                                <div class=\"a-box\">\\n                                    <div class=\"a-box-inner\">\\n                                        <h4>Type the characters you see in this image:</h4>\\n                                        <!-- For automated access to price change or offer listing change events,\\n                                             please refer to the MWS Subscription API:\\n                                             https://developer.amazonservices.in/gp/mws/api.html/276-5247872-0590350?ie=UTF8&section=subscriptions&group=subscriptions&version=latest\\n                                        -->\\n                                        <div class=\"a-row a-text-center\">\\n                                            <img src=\"https://images-na.ssl-images-amazon.com/captcha/wxvwzfzh/Captcha_wzcvdyjcae.jpg\">\\n                                        </div>\\n                                        <div class=\"a-row a-spacing-base\">\\n                                            <div class=\"a-row\">\\n                                                <div class=\"a-column a-span6\">\\n                                                </div>\\n                                                <div class=\"a-column a-span6 a-span-last a-text-right\">\\n                                                    <a onclick=\"window.location.reload()\">Try different image</a>\\n                                                </div>\\n                                            </div>\\n                                            <input autocomplete=\"off\" spellcheck=\"false\" placeholder=\"Type characters\" id=\"captchacharacters\" name=\"field-keywords\" class=\"a-span12\" autocapitalize=\"off\" autocorrect=\"off\" type=\"text\">\\n                                        </div>\\n                                    </div>\\n                                </div>\\n                            </div>\\n\\n                            <div class=\"a-section a-spacing-extra-large\">\\n\\n                                <div class=\"a-row\">\\n                                    <span class=\"a-button a-button-primary a-span12\">\\n                                        <span class=\"a-button-inner\">\\n                                            <button type=\"submit\" class=\"a-button-text\">Continue shopping</button>\\n                                        </span>\\n                                    </span>\\n                                </div>\\n\\n                            </div>\\n                        </form>\\n\\n                    </div>\\n                </div>\\n\\n            </div>\\n\\n        </div>\\n\\n        <div class=\"a-divider a-divider-section\"><div class=\"a-divider-inner\"></div></div>\\n\\n        <div class=\"a-text-center a-spacing-small a-size-mini\">\\n            <a href=\"https://www.amazon.in/gp/help/customer/display.html/ref=footer_cou?ie=UTF8&nodeId=200545940\">Conditions of Use &amp; Sale</a>\\n            <span class=\"a-letter-space\"></span>\\n            <span class=\"a-letter-space\"></span>\\n            <span class=\"a-letter-space\"></span>\\n            <span class=\"a-letter-space\"></span>\\n            <a href=\"https://www.amazon.in/gp/help/customer/display.html/ref=footer_privacy?ie=UTF8&nodeId=200534380\">Privacy Notice</a>\\n        </div>\\n\\n        <div class=\"a-text-center a-size-mini a-color-secondary\">\\n          &copy; 1996-2015, Amazon.com, Inc. or its affiliates\\n          <script>\\n           if (true === true) {\\n             document.write(\\'<img src=\"https://fls-eu.amaz\\'+\\'on.in/\\'+\\'1/oc-csi/1/OP/requestId=8HWAD918T3ZE7K85K1X6&js=1\" />\\');\\n           };\\n          </script>\\n          <noscript>\\n            <img src=\"https://fls-eu.amazon.in/1/oc-csi/1/OP/requestId=8HWAD918T3ZE7K85K1X6&js=0\" />\\n          </noscript>\\n        </div>\\n    </div>\\n    <script>\\n    if (true === true) {\\n        var head = document.getElementsByTagName(\\'head\\')[0],\\n            prefix = \"https://images-eu.ssl-images-amazon.com/images/G/01/csminstrumentation/\",\\n            elem = document.createElement(\"script\");\\n        elem.src = prefix + \"csm-captcha-instrumentation.min.js\";\\n        head.appendChild(elem);\\n\\n        elem = document.createElement(\"script\");\\n        elem.src = prefix + \"rd-script-6d68177fa6061598e9509dc4b5bdd08d.js\";\\n        head.appendChild(elem);\\n    }\\n    </script>\\n</body></html>\\n'"
      ]
     },
     "execution_count": 8,
     "metadata": {},
     "output_type": "execute_result"
    }
   ],
   "source": [
    "page.content"
   ]
  },
  {
   "cell_type": "code",
   "execution_count": 20,
   "id": "72e8de2c",
   "metadata": {
    "ExecuteTime": {
     "end_time": "2021-12-19T13:51:33.180523Z",
     "start_time": "2021-12-19T13:51:33.164565Z"
    }
   },
   "outputs": [
    {
     "name": "stdout",
     "output_type": "stream",
     "text": [
      "<!DOCTYPE html>\n",
      "<!--[if lt IE 7]> <html lang=\"en-us\" class=\"a-no-js a-lt-ie9 a-lt-ie8 a-lt-ie7\"> <![endif]-->\n",
      "<!--[if IE 7]>    <html lang=\"en-us\" class=\"a-no-js a-lt-ie9 a-lt-ie8\"> <![endif]-->\n",
      "<!--[if IE 8]>    <html lang=\"en-us\" class=\"a-no-js a-lt-ie9\"> <![endif]-->\n",
      "<!--[if gt IE 8]><!-->\n",
      "<html class=\"a-no-js\" lang=\"en-us\">\n",
      " <!--<![endif]-->\n",
      " <head>\n",
      "  <meta content=\"text/html; charset=utf-8\" http-equiv=\"content-type\"/>\n",
      "  <meta charset=\"utf-8\"/>\n",
      "  <meta content=\"IE=edge,chrome=1\" http-equiv=\"X-UA-Compatible\"/>\n",
      "  <title dir=\"ltr\">\n",
      "   Amazon.in\n",
      "  </title>\n",
      "  <meta content=\"width=device-width\" name=\"viewport\"/>\n",
      "  <link href=\"https://images-na.ssl-images-amazon.com/images/G/01/AUIClients/AmazonUI-3c913031596ca78a3768f4e934b1cc02ce238101.secure.min._V1_.css\" rel=\"stylesheet\"/>\n",
      "  <script>\n",
      "   if (true === true) {\n",
      "    var ue_t0 = (+ new Date()),\n",
      "        ue_csm = window,\n",
      "        ue = { t0: ue_t0, d: function() { return (+new Date() - ue_t0); } },\n",
      "        ue_furl = \"fls-eu.amazon.in\",\n",
      "        ue_mid = \"A21TJRUUN4KGV\",\n",
      "        ue_sid = (document.cookie.match(/session-id=([0-9-]+)/) || [])[1],\n",
      "        ue_sn = \"opfcaptcha.amazon.in\",\n",
      "        ue_id = '8HWAD918T3ZE7K85K1X6';\n",
      "}\n",
      "  </script>\n",
      " </head>\n",
      " <body>\n",
      "  <!--\n",
      "        To discuss automated access to Amazon data please contact api-services-support@amazon.com.\n",
      "        For information about migrating to our APIs refer to our Marketplace APIs at https://developer.amazonservices.in/ref=rm_c_sv, or our Product Advertising API at https://affiliate-program.amazon.in/gp/advertising/api/detail/main.html/ref=rm_c_ac for advertising use cases.\n",
      "-->\n",
      "  <!--\n",
      "Correios.DoNotSend\n",
      "-->\n",
      "  <div class=\"a-container a-padding-double-large\" style=\"min-width:350px;padding:44px 0 !important\">\n",
      "   <div class=\"a-row a-spacing-double-large\" style=\"width: 350px; margin: 0 auto\">\n",
      "    <div class=\"a-row a-spacing-medium a-text-center\">\n",
      "     <i class=\"a-icon a-logo\">\n",
      "     </i>\n",
      "    </div>\n",
      "    <div class=\"a-box a-alert a-alert-info a-spacing-base\">\n",
      "     <div class=\"a-box-inner\">\n",
      "      <i class=\"a-icon a-icon-alert\">\n",
      "      </i>\n",
      "      <h4>\n",
      "       Enter the characters you see below\n",
      "      </h4>\n",
      "      <p class=\"a-last\">\n",
      "       Sorry, we just need to make sure you're not a robot. For best results, please make sure your browser is accepting cookies.\n",
      "      </p>\n",
      "     </div>\n",
      "    </div>\n",
      "    <div class=\"a-section\">\n",
      "     <div class=\"a-box a-color-offset-background\">\n",
      "      <div class=\"a-box-inner a-padding-extra-large\">\n",
      "       <form action=\"/errors/validateCaptcha\" method=\"get\" name=\"\">\n",
      "        <input name=\"amzn\" type=\"hidden\" value=\"M90wHiUYyh8oHY0CvRJ20g==\"/>\n",
      "        <input name=\"amzn-r\" type=\"hidden\" value=\"/boAt-Rockerz-255-Pro-Earphones/dp/B08TV2P1N8/ref=sr_1_1?keywords=boat+rockerz+255+pro+plus&amp;qid=1639920979&amp;s=electronics&amp;sprefix=boat+ro%2Celectronics%2C208&amp;sr=1-1\"/>\n",
      "        <div class=\"a-row a-spacing-large\">\n",
      "         <div class=\"a-box\">\n",
      "          <div class=\"a-box-inner\">\n",
      "           <h4>\n",
      "            Type the characters you see in this image:\n",
      "           </h4>\n",
      "           <!-- For automated access to price change or offer listing change events,\n",
      "                                             please refer to the MWS Subscription API:\n",
      "                                             https://developer.amazonservices.in/gp/mws/api.html/276-5247872-0590350?ie=UTF8&section=subscriptions&group=subscriptions&version=latest\n",
      "                                        -->\n",
      "           <div class=\"a-row a-text-center\">\n",
      "            <img src=\"https://images-na.ssl-images-amazon.com/captcha/wxvwzfzh/Captcha_wzcvdyjcae.jpg\"/>\n",
      "           </div>\n",
      "           <div class=\"a-row a-spacing-base\">\n",
      "            <div class=\"a-row\">\n",
      "             <div class=\"a-column a-span6\">\n",
      "             </div>\n",
      "             <div class=\"a-column a-span6 a-span-last a-text-right\">\n",
      "              <a onclick=\"window.location.reload()\">\n",
      "               Try different image\n",
      "              </a>\n",
      "             </div>\n",
      "            </div>\n",
      "            <input autocapitalize=\"off\" autocomplete=\"off\" autocorrect=\"off\" class=\"a-span12\" id=\"captchacharacters\" name=\"field-keywords\" placeholder=\"Type characters\" spellcheck=\"false\" type=\"text\"/>\n",
      "           </div>\n",
      "          </div>\n",
      "         </div>\n",
      "        </div>\n",
      "        <div class=\"a-section a-spacing-extra-large\">\n",
      "         <div class=\"a-row\">\n",
      "          <span class=\"a-button a-button-primary a-span12\">\n",
      "           <span class=\"a-button-inner\">\n",
      "            <button class=\"a-button-text\" type=\"submit\">\n",
      "             Continue shopping\n",
      "            </button>\n",
      "           </span>\n",
      "          </span>\n",
      "         </div>\n",
      "        </div>\n",
      "       </form>\n",
      "      </div>\n",
      "     </div>\n",
      "    </div>\n",
      "   </div>\n",
      "   <div class=\"a-divider a-divider-section\">\n",
      "    <div class=\"a-divider-inner\">\n",
      "    </div>\n",
      "   </div>\n",
      "   <div class=\"a-text-center a-spacing-small a-size-mini\">\n",
      "    <a href=\"https://www.amazon.in/gp/help/customer/display.html/ref=footer_cou?ie=UTF8&amp;nodeId=200545940\">\n",
      "     Conditions of Use &amp; Sale\n",
      "    </a>\n",
      "    <span class=\"a-letter-space\">\n",
      "    </span>\n",
      "    <span class=\"a-letter-space\">\n",
      "    </span>\n",
      "    <span class=\"a-letter-space\">\n",
      "    </span>\n",
      "    <span class=\"a-letter-space\">\n",
      "    </span>\n",
      "    <a href=\"https://www.amazon.in/gp/help/customer/display.html/ref=footer_privacy?ie=UTF8&amp;nodeId=200534380\">\n",
      "     Privacy Notice\n",
      "    </a>\n",
      "   </div>\n",
      "   <div class=\"a-text-center a-size-mini a-color-secondary\">\n",
      "    © 1996-2015, Amazon.com, Inc. or its affiliates\n",
      "    <script>\n",
      "     if (true === true) {\n",
      "             document.write('<img src=\"https://fls-eu.amaz'+'on.in/'+'1/oc-csi/1/OP/requestId=8HWAD918T3ZE7K85K1X6&js=1\" />');\n",
      "           };\n",
      "    </script>\n",
      "    <noscript>\n",
      "     <img src=\"https://fls-eu.amazon.in/1/oc-csi/1/OP/requestId=8HWAD918T3ZE7K85K1X6&amp;js=0\">\n",
      "     </img>\n",
      "    </noscript>\n",
      "   </div>\n",
      "  </div>\n",
      "  <script>\n",
      "   if (true === true) {\n",
      "        var head = document.getElementsByTagName('head')[0],\n",
      "            prefix = \"https://images-eu.ssl-images-amazon.com/images/G/01/csminstrumentation/\",\n",
      "            elem = document.createElement(\"script\");\n",
      "        elem.src = prefix + \"csm-captcha-instrumentation.min.js\";\n",
      "        head.appendChild(elem);\n",
      "\n",
      "        elem = document.createElement(\"script\");\n",
      "        elem.src = prefix + \"rd-script-6d68177fa6061598e9509dc4b5bdd08d.js\";\n",
      "        head.appendChild(elem);\n",
      "    }\n",
      "  </script>\n",
      " </body>\n",
      "</html>\n",
      "\n"
     ]
    }
   ],
   "source": [
    "soup = bs(page.content,'html.parser')\n",
    "print(soup.prettify())"
   ]
  },
  {
   "cell_type": "code",
   "execution_count": 29,
   "id": "094aa308",
   "metadata": {
    "ExecuteTime": {
     "end_time": "2021-12-19T13:57:52.943324Z",
     "start_time": "2021-12-19T13:57:52.924167Z"
    }
   },
   "outputs": [
    {
     "data": {
      "text/plain": [
       "[]"
      ]
     },
     "execution_count": 29,
     "metadata": {},
     "output_type": "execute_result"
    }
   ],
   "source": [
    "review = soup.find_all(\"span\",{\"data-hook\":\"review-body\"})\n",
    "review"
   ]
  },
  {
   "cell_type": "code",
   "execution_count": null,
   "id": "83e3d96c",
   "metadata": {},
   "outputs": [],
   "source": []
  }
 ],
 "metadata": {
  "kernelspec": {
   "display_name": "Python 3",
   "language": "python",
   "name": "python3"
  },
  "language_info": {
   "codemirror_mode": {
    "name": "ipython",
    "version": 3
   },
   "file_extension": ".py",
   "mimetype": "text/x-python",
   "name": "python",
   "nbconvert_exporter": "python",
   "pygments_lexer": "ipython3",
   "version": "3.8.8"
  },
  "varInspector": {
   "cols": {
    "lenName": 16,
    "lenType": 16,
    "lenVar": 40
   },
   "kernels_config": {
    "python": {
     "delete_cmd_postfix": "",
     "delete_cmd_prefix": "del ",
     "library": "var_list.py",
     "varRefreshCmd": "print(var_dic_list())"
    },
    "r": {
     "delete_cmd_postfix": ") ",
     "delete_cmd_prefix": "rm(",
     "library": "var_list.r",
     "varRefreshCmd": "cat(var_dic_list()) "
    }
   },
   "types_to_exclude": [
    "module",
    "function",
    "builtin_function_or_method",
    "instance",
    "_Feature"
   ],
   "window_display": false
  }
 },
 "nbformat": 4,
 "nbformat_minor": 5
}
