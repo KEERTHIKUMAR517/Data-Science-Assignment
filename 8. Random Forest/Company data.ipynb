{
 "cells": [
  {
   "cell_type": "markdown",
   "id": "dbbc8011",
   "metadata": {},
   "source": [
    "# Import Necessary Library"
   ]
  },
  {
   "cell_type": "code",
   "execution_count": 1,
   "id": "715c05d3",
   "metadata": {
    "ExecuteTime": {
     "end_time": "2021-11-29T14:56:46.467871Z",
     "start_time": "2021-11-29T14:56:45.741388Z"
    }
   },
   "outputs": [],
   "source": [
    "import pandas as pd\n",
    "import matplotlib.pyplot as plt\n",
    "import numpy as np\n",
    "\n",
    "import warnings\n",
    "warnings.filterwarnings('ignore')"
   ]
  },
  {
   "cell_type": "markdown",
   "id": "10179d6d",
   "metadata": {},
   "source": [
    "# 1. Data Collection"
   ]
  },
  {
   "cell_type": "code",
   "execution_count": 2,
   "id": "17bab7ef",
   "metadata": {
    "ExecuteTime": {
     "end_time": "2021-11-29T14:57:08.423743Z",
     "start_time": "2021-11-29T14:57:08.376837Z"
    }
   },
   "outputs": [
    {
     "data": {
      "text/html": [
       "<div>\n",
       "<style scoped>\n",
       "    .dataframe tbody tr th:only-of-type {\n",
       "        vertical-align: middle;\n",
       "    }\n",
       "\n",
       "    .dataframe tbody tr th {\n",
       "        vertical-align: top;\n",
       "    }\n",
       "\n",
       "    .dataframe thead th {\n",
       "        text-align: right;\n",
       "    }\n",
       "</style>\n",
       "<table border=\"1\" class=\"dataframe\">\n",
       "  <thead>\n",
       "    <tr style=\"text-align: right;\">\n",
       "      <th></th>\n",
       "      <th>Sales</th>\n",
       "      <th>CompPrice</th>\n",
       "      <th>Income</th>\n",
       "      <th>Advertising</th>\n",
       "      <th>Population</th>\n",
       "      <th>Price</th>\n",
       "      <th>ShelveLoc</th>\n",
       "      <th>Age</th>\n",
       "      <th>Education</th>\n",
       "      <th>Urban</th>\n",
       "      <th>US</th>\n",
       "    </tr>\n",
       "  </thead>\n",
       "  <tbody>\n",
       "    <tr>\n",
       "      <th>0</th>\n",
       "      <td>9.50</td>\n",
       "      <td>138</td>\n",
       "      <td>73</td>\n",
       "      <td>11</td>\n",
       "      <td>276</td>\n",
       "      <td>120</td>\n",
       "      <td>Bad</td>\n",
       "      <td>42</td>\n",
       "      <td>17</td>\n",
       "      <td>Yes</td>\n",
       "      <td>Yes</td>\n",
       "    </tr>\n",
       "    <tr>\n",
       "      <th>1</th>\n",
       "      <td>11.22</td>\n",
       "      <td>111</td>\n",
       "      <td>48</td>\n",
       "      <td>16</td>\n",
       "      <td>260</td>\n",
       "      <td>83</td>\n",
       "      <td>Good</td>\n",
       "      <td>65</td>\n",
       "      <td>10</td>\n",
       "      <td>Yes</td>\n",
       "      <td>Yes</td>\n",
       "    </tr>\n",
       "    <tr>\n",
       "      <th>2</th>\n",
       "      <td>10.06</td>\n",
       "      <td>113</td>\n",
       "      <td>35</td>\n",
       "      <td>10</td>\n",
       "      <td>269</td>\n",
       "      <td>80</td>\n",
       "      <td>Medium</td>\n",
       "      <td>59</td>\n",
       "      <td>12</td>\n",
       "      <td>Yes</td>\n",
       "      <td>Yes</td>\n",
       "    </tr>\n",
       "    <tr>\n",
       "      <th>3</th>\n",
       "      <td>7.40</td>\n",
       "      <td>117</td>\n",
       "      <td>100</td>\n",
       "      <td>4</td>\n",
       "      <td>466</td>\n",
       "      <td>97</td>\n",
       "      <td>Medium</td>\n",
       "      <td>55</td>\n",
       "      <td>14</td>\n",
       "      <td>Yes</td>\n",
       "      <td>Yes</td>\n",
       "    </tr>\n",
       "    <tr>\n",
       "      <th>4</th>\n",
       "      <td>4.15</td>\n",
       "      <td>141</td>\n",
       "      <td>64</td>\n",
       "      <td>3</td>\n",
       "      <td>340</td>\n",
       "      <td>128</td>\n",
       "      <td>Bad</td>\n",
       "      <td>38</td>\n",
       "      <td>13</td>\n",
       "      <td>Yes</td>\n",
       "      <td>No</td>\n",
       "    </tr>\n",
       "    <tr>\n",
       "      <th>...</th>\n",
       "      <td>...</td>\n",
       "      <td>...</td>\n",
       "      <td>...</td>\n",
       "      <td>...</td>\n",
       "      <td>...</td>\n",
       "      <td>...</td>\n",
       "      <td>...</td>\n",
       "      <td>...</td>\n",
       "      <td>...</td>\n",
       "      <td>...</td>\n",
       "      <td>...</td>\n",
       "    </tr>\n",
       "    <tr>\n",
       "      <th>395</th>\n",
       "      <td>12.57</td>\n",
       "      <td>138</td>\n",
       "      <td>108</td>\n",
       "      <td>17</td>\n",
       "      <td>203</td>\n",
       "      <td>128</td>\n",
       "      <td>Good</td>\n",
       "      <td>33</td>\n",
       "      <td>14</td>\n",
       "      <td>Yes</td>\n",
       "      <td>Yes</td>\n",
       "    </tr>\n",
       "    <tr>\n",
       "      <th>396</th>\n",
       "      <td>6.14</td>\n",
       "      <td>139</td>\n",
       "      <td>23</td>\n",
       "      <td>3</td>\n",
       "      <td>37</td>\n",
       "      <td>120</td>\n",
       "      <td>Medium</td>\n",
       "      <td>55</td>\n",
       "      <td>11</td>\n",
       "      <td>No</td>\n",
       "      <td>Yes</td>\n",
       "    </tr>\n",
       "    <tr>\n",
       "      <th>397</th>\n",
       "      <td>7.41</td>\n",
       "      <td>162</td>\n",
       "      <td>26</td>\n",
       "      <td>12</td>\n",
       "      <td>368</td>\n",
       "      <td>159</td>\n",
       "      <td>Medium</td>\n",
       "      <td>40</td>\n",
       "      <td>18</td>\n",
       "      <td>Yes</td>\n",
       "      <td>Yes</td>\n",
       "    </tr>\n",
       "    <tr>\n",
       "      <th>398</th>\n",
       "      <td>5.94</td>\n",
       "      <td>100</td>\n",
       "      <td>79</td>\n",
       "      <td>7</td>\n",
       "      <td>284</td>\n",
       "      <td>95</td>\n",
       "      <td>Bad</td>\n",
       "      <td>50</td>\n",
       "      <td>12</td>\n",
       "      <td>Yes</td>\n",
       "      <td>Yes</td>\n",
       "    </tr>\n",
       "    <tr>\n",
       "      <th>399</th>\n",
       "      <td>9.71</td>\n",
       "      <td>134</td>\n",
       "      <td>37</td>\n",
       "      <td>0</td>\n",
       "      <td>27</td>\n",
       "      <td>120</td>\n",
       "      <td>Good</td>\n",
       "      <td>49</td>\n",
       "      <td>16</td>\n",
       "      <td>Yes</td>\n",
       "      <td>Yes</td>\n",
       "    </tr>\n",
       "  </tbody>\n",
       "</table>\n",
       "<p>400 rows × 11 columns</p>\n",
       "</div>"
      ],
      "text/plain": [
       "     Sales  CompPrice  Income  Advertising  Population  Price ShelveLoc  Age  \\\n",
       "0     9.50        138      73           11         276    120       Bad   42   \n",
       "1    11.22        111      48           16         260     83      Good   65   \n",
       "2    10.06        113      35           10         269     80    Medium   59   \n",
       "3     7.40        117     100            4         466     97    Medium   55   \n",
       "4     4.15        141      64            3         340    128       Bad   38   \n",
       "..     ...        ...     ...          ...         ...    ...       ...  ...   \n",
       "395  12.57        138     108           17         203    128      Good   33   \n",
       "396   6.14        139      23            3          37    120    Medium   55   \n",
       "397   7.41        162      26           12         368    159    Medium   40   \n",
       "398   5.94        100      79            7         284     95       Bad   50   \n",
       "399   9.71        134      37            0          27    120      Good   49   \n",
       "\n",
       "     Education Urban   US  \n",
       "0           17   Yes  Yes  \n",
       "1           10   Yes  Yes  \n",
       "2           12   Yes  Yes  \n",
       "3           14   Yes  Yes  \n",
       "4           13   Yes   No  \n",
       "..         ...   ...  ...  \n",
       "395         14   Yes  Yes  \n",
       "396         11    No  Yes  \n",
       "397         18   Yes  Yes  \n",
       "398         12   Yes  Yes  \n",
       "399         16   Yes  Yes  \n",
       "\n",
       "[400 rows x 11 columns]"
      ]
     },
     "execution_count": 2,
     "metadata": {},
     "output_type": "execute_result"
    }
   ],
   "source": [
    "company = pd.read_csv('Company_Data (1).csv')\n",
    "company"
   ]
  },
  {
   "cell_type": "markdown",
   "id": "fc933fdf",
   "metadata": {},
   "source": [
    "# 3. Data Undersatnding"
   ]
  },
  {
   "cell_type": "code",
   "execution_count": 3,
   "id": "facb0763",
   "metadata": {
    "ExecuteTime": {
     "end_time": "2021-11-29T14:58:22.404559Z",
     "start_time": "2021-11-29T14:58:22.392463Z"
    }
   },
   "outputs": [
    {
     "name": "stdout",
     "output_type": "stream",
     "text": [
      "(400, 11)\n",
      "Sales          0\n",
      "CompPrice      0\n",
      "Income         0\n",
      "Advertising    0\n",
      "Population     0\n",
      "Price          0\n",
      "ShelveLoc      0\n",
      "Age            0\n",
      "Education      0\n",
      "Urban          0\n",
      "US             0\n",
      "dtype: int64\n",
      "Sales          float64\n",
      "CompPrice        int64\n",
      "Income           int64\n",
      "Advertising      int64\n",
      "Population       int64\n",
      "Price            int64\n",
      "ShelveLoc       object\n",
      "Age              int64\n",
      "Education        int64\n",
      "Urban           object\n",
      "US              object\n",
      "dtype: object\n"
     ]
    }
   ],
   "source": [
    "print(company.shape)\n",
    "print(company.isna().sum())\n",
    "print(company.dtypes)"
   ]
  },
  {
   "cell_type": "code",
   "execution_count": 4,
   "id": "457c3ec2",
   "metadata": {
    "ExecuteTime": {
     "end_time": "2021-11-29T14:58:33.431667Z",
     "start_time": "2021-11-29T14:58:33.416708Z"
    }
   },
   "outputs": [
    {
     "data": {
      "text/plain": [
       "array(['Bad', 'Good', 'Medium'], dtype=object)"
      ]
     },
     "execution_count": 4,
     "metadata": {},
     "output_type": "execute_result"
    }
   ],
   "source": [
    "company.ShelveLoc.unique()"
   ]
  },
  {
   "cell_type": "markdown",
   "id": "fec3600e",
   "metadata": {},
   "source": [
    "# 4.Data Preparation"
   ]
  },
  {
   "cell_type": "code",
   "execution_count": 5,
   "id": "8d6ca7d2",
   "metadata": {
    "ExecuteTime": {
     "end_time": "2021-11-29T14:58:47.591777Z",
     "start_time": "2021-11-29T14:58:46.392490Z"
    }
   },
   "outputs": [],
   "source": [
    "from sklearn.preprocessing import LabelEncoder\n",
    "le = LabelEncoder()\n",
    "company['ShelveLoc']= le.fit_transform(company['ShelveLoc'])\n",
    "company['Urban']=  le.fit_transform(company['Urban'])\n",
    "company['US'] =  le.fit_transform(company['US'])"
   ]
  },
  {
   "cell_type": "code",
   "execution_count": 6,
   "id": "2d26dcf1",
   "metadata": {
    "ExecuteTime": {
     "end_time": "2021-11-29T14:58:55.388754Z",
     "start_time": "2021-11-29T14:58:55.368779Z"
    }
   },
   "outputs": [
    {
     "data": {
      "text/plain": [
       "Sales          float64\n",
       "CompPrice        int64\n",
       "Income           int64\n",
       "Advertising      int64\n",
       "Population       int64\n",
       "Price            int64\n",
       "ShelveLoc        int32\n",
       "Age              int64\n",
       "Education        int64\n",
       "Urban            int32\n",
       "US               int32\n",
       "dtype: object"
      ]
     },
     "execution_count": 6,
     "metadata": {},
     "output_type": "execute_result"
    }
   ],
   "source": [
    "company.dtypes"
   ]
  },
  {
   "cell_type": "markdown",
   "id": "212afc4b",
   "metadata": {},
   "source": [
    "# 5.Model Building"
   ]
  },
  {
   "cell_type": "code",
   "execution_count": 7,
   "id": "268fc17a",
   "metadata": {
    "ExecuteTime": {
     "end_time": "2021-11-29T14:59:11.041939Z",
     "start_time": "2021-11-29T14:59:11.032962Z"
    }
   },
   "outputs": [],
   "source": [
    "X = company.drop('ShelveLoc',axis=1)\n",
    "y = company[['ShelveLoc']]"
   ]
  },
  {
   "cell_type": "code",
   "execution_count": 8,
   "id": "e5957cec",
   "metadata": {
    "ExecuteTime": {
     "end_time": "2021-11-29T14:59:23.106403Z",
     "start_time": "2021-11-29T14:59:23.048596Z"
    }
   },
   "outputs": [],
   "source": [
    "from sklearn.model_selection import train_test_split\n",
    "X_train,X_test,y_train,y_test=train_test_split(X,y,test_size=.15,random_state=12,stratify=y)"
   ]
  },
  {
   "cell_type": "code",
   "execution_count": 9,
   "id": "927d85a9",
   "metadata": {
    "ExecuteTime": {
     "end_time": "2021-11-29T14:59:50.861010Z",
     "start_time": "2021-11-29T14:59:50.841910Z"
    }
   },
   "outputs": [
    {
     "name": "stdout",
     "output_type": "stream",
     "text": [
      "(340, 10) (340, 1)\n",
      "(60, 10) (60, 1)\n"
     ]
    }
   ],
   "source": [
    "print(X_train.shape,y_train.shape)\n",
    "print(X_test.shape,y_test.shape)"
   ]
  },
  {
   "cell_type": "markdown",
   "id": "eadbb971",
   "metadata": {},
   "source": [
    "# 6.Model training"
   ]
  },
  {
   "cell_type": "code",
   "execution_count": 12,
   "id": "b55bd33b",
   "metadata": {
    "ExecuteTime": {
     "end_time": "2021-11-29T15:03:23.717791Z",
     "start_time": "2021-11-29T15:01:53.928238Z"
    }
   },
   "outputs": [],
   "source": [
    "from sklearn.model_selection import GridSearchCV\n",
    "gs = GridSearchCV(estimator =rf_classifier,param_grid= {'criterion':['gini','entropy'],\n",
    "                                                        'max_depth':[2,3,4,5,6,7,8,9,10],\n",
    "                                                       'n_estimators':[10,20,30,40,50,60,70,80,90,100]},cv =5)\n",
    "grid = gs.fit(X,y)"
   ]
  },
  {
   "cell_type": "code",
   "execution_count": 13,
   "id": "bc1d0f6d",
   "metadata": {
    "ExecuteTime": {
     "end_time": "2021-11-29T15:03:29.814690Z",
     "start_time": "2021-11-29T15:03:29.800723Z"
    }
   },
   "outputs": [
    {
     "data": {
      "text/plain": [
       "{'criterion': 'gini', 'max_depth': 10, 'n_estimators': 30}"
      ]
     },
     "execution_count": 13,
     "metadata": {},
     "output_type": "execute_result"
    }
   ],
   "source": [
    "grid.best_params_"
   ]
  },
  {
   "cell_type": "code",
   "execution_count": 14,
   "id": "d16fb283",
   "metadata": {
    "ExecuteTime": {
     "end_time": "2021-11-29T15:03:34.105560Z",
     "start_time": "2021-11-29T15:03:34.087571Z"
    }
   },
   "outputs": [
    {
     "data": {
      "text/plain": [
       "0.665"
      ]
     },
     "execution_count": 14,
     "metadata": {},
     "output_type": "execute_result"
    }
   ],
   "source": [
    "grid.best_score_"
   ]
  },
  {
   "cell_type": "code",
   "execution_count": 16,
   "id": "818c73d6",
   "metadata": {
    "ExecuteTime": {
     "end_time": "2021-11-29T15:04:48.382725Z",
     "start_time": "2021-11-29T15:04:48.312535Z"
    }
   },
   "outputs": [
    {
     "data": {
      "text/plain": [
       "RandomForestClassifier(max_depth=10, n_estimators=30)"
      ]
     },
     "execution_count": 16,
     "metadata": {},
     "output_type": "execute_result"
    }
   ],
   "source": [
    "from sklearn.ensemble import RandomForestClassifier\n",
    "rf_classifier = RandomForestClassifier(criterion= 'gini', max_depth= 10, n_estimators= 30)\n",
    "rf_classifier.fit(X_train,y_train)\n"
   ]
  },
  {
   "cell_type": "markdown",
   "id": "67277792",
   "metadata": {},
   "source": [
    "# 7.Model Testing"
   ]
  },
  {
   "cell_type": "markdown",
   "id": "0dd95954",
   "metadata": {},
   "source": [
    "##### Training data"
   ]
  },
  {
   "cell_type": "code",
   "execution_count": 17,
   "id": "361638ec",
   "metadata": {
    "ExecuteTime": {
     "end_time": "2021-11-29T15:05:35.780587Z",
     "start_time": "2021-11-29T15:05:35.752206Z"
    }
   },
   "outputs": [
    {
     "data": {
      "text/plain": [
       "array([0, 0, 2, 0, 2, 2, 1, 1, 1, 1, 2, 0, 2, 2, 2, 2, 2, 2, 0, 0, 2, 0,\n",
       "       2, 2, 0, 2, 1, 1, 2, 2, 0, 1, 1, 2, 2, 2, 2, 2, 2, 0, 2, 0, 2, 0,\n",
       "       0, 2, 2, 2, 1, 2, 1, 1, 1, 2, 0, 2, 1, 2, 2, 0, 1, 0, 2, 2, 2, 2,\n",
       "       0, 1, 0, 0, 2, 2, 2, 1, 2, 0, 2, 2, 0, 1, 2, 1, 0, 2, 0, 0, 2, 1,\n",
       "       2, 1, 2, 0, 2, 0, 0, 2, 0, 1, 0, 2, 0, 2, 2, 2, 2, 0, 0, 0, 1, 1,\n",
       "       2, 2, 1, 2, 2, 2, 2, 2, 1, 0, 2, 2, 2, 2, 1, 2, 1, 2, 0, 0, 2, 0,\n",
       "       1, 0, 2, 1, 2, 0, 0, 2, 2, 2, 2, 1, 1, 2, 2, 2, 2, 0, 2, 2, 2, 2,\n",
       "       0, 2, 2, 2, 2, 1, 1, 2, 0, 0, 2, 0, 2, 1, 0, 2, 2, 2, 2, 2, 2, 2,\n",
       "       0, 0, 1, 1, 2, 1, 2, 0, 2, 2, 2, 1, 0, 0, 2, 2, 1, 2, 2, 2, 2, 2,\n",
       "       2, 2, 0, 2, 0, 0, 2, 2, 1, 2, 2, 0, 2, 2, 2, 1, 2, 0, 2, 2, 0, 2,\n",
       "       1, 2, 0, 0, 0, 2, 2, 2, 2, 1, 2, 2, 0, 2, 2, 0, 2, 2, 1, 0, 2, 2,\n",
       "       2, 2, 1, 1, 0, 2, 2, 0, 0, 1, 2, 2, 1, 2, 2, 2, 2, 2, 1, 1, 1, 2,\n",
       "       0, 2, 2, 2, 0, 2, 1, 1, 2, 2, 2, 2, 2, 0, 1, 2, 2, 0, 2, 2, 2, 2,\n",
       "       0, 0, 2, 1, 2, 2, 1, 2, 2, 0, 2, 0, 1, 0, 2, 0, 2, 2, 2, 2, 2, 0,\n",
       "       2, 1, 2, 0, 1, 2, 1, 0, 1, 2, 2, 2, 2, 1, 2, 1, 1, 1, 2, 1, 2, 2,\n",
       "       0, 1, 2, 1, 0, 2, 1, 2, 2, 2])"
      ]
     },
     "execution_count": 17,
     "metadata": {},
     "output_type": "execute_result"
    }
   ],
   "source": [
    "y_pred_train = rf_classifier.predict(X_train)\n",
    "y_pred_train"
   ]
  },
  {
   "cell_type": "markdown",
   "id": "c6b2c44c",
   "metadata": {},
   "source": [
    "##### Test data"
   ]
  },
  {
   "cell_type": "code",
   "execution_count": 18,
   "id": "9842ba2d",
   "metadata": {
    "ExecuteTime": {
     "end_time": "2021-11-29T15:07:13.357205Z",
     "start_time": "2021-11-29T15:07:13.335454Z"
    }
   },
   "outputs": [
    {
     "data": {
      "text/plain": [
       "array([1, 2, 2, 2, 2, 2, 2, 2, 0, 2, 2, 2, 2, 2, 2, 2, 2, 0, 1, 2, 1, 2,\n",
       "       2, 2, 2, 2, 2, 2, 2, 2, 2, 1, 0, 2, 2, 2, 0, 2, 2, 2, 1, 1, 2, 2,\n",
       "       1, 0, 2, 2, 2, 2, 2, 2, 2, 2, 2, 2, 0, 0, 2, 2])"
      ]
     },
     "execution_count": 18,
     "metadata": {},
     "output_type": "execute_result"
    }
   ],
   "source": [
    "y_pred_test = rf_classifier.predict(X_test)\n",
    "y_pred_test"
   ]
  },
  {
   "cell_type": "markdown",
   "id": "e87bf060",
   "metadata": {},
   "source": [
    "## 7. Model Evaluation"
   ]
  },
  {
   "cell_type": "code",
   "execution_count": 19,
   "id": "c50e99bc",
   "metadata": {
    "ExecuteTime": {
     "end_time": "2021-11-29T15:07:28.591132Z",
     "start_time": "2021-11-29T15:07:28.585142Z"
    }
   },
   "outputs": [],
   "source": [
    "from sklearn.metrics import accuracy_score,precision_score,recall_score,r2_score,confusion_matrix,roc_auc_score,classification_report"
   ]
  },
  {
   "cell_type": "markdown",
   "id": "7e7919d8",
   "metadata": {},
   "source": [
    "##### Training data"
   ]
  },
  {
   "cell_type": "code",
   "execution_count": 21,
   "id": "adfd2879",
   "metadata": {
    "ExecuteTime": {
     "end_time": "2021-11-29T15:07:45.327645Z",
     "start_time": "2021-11-29T15:07:45.304682Z"
    }
   },
   "outputs": [
    {
     "name": "stdout",
     "output_type": "stream",
     "text": [
      "accuracy score: 0.9882352941176471\n",
      "classification_report:\n",
      "               precision    recall  f1-score   support\n",
      "\n",
      "           0       1.00      0.99      0.99        82\n",
      "           1       1.00      0.96      0.98        72\n",
      "           2       0.98      1.00      0.99       186\n",
      "\n",
      "    accuracy                           0.99       340\n",
      "   macro avg       0.99      0.98      0.99       340\n",
      "weighted avg       0.99      0.99      0.99       340\n",
      "\n",
      "confusion matrix:\n",
      " [[ 81   0   1]\n",
      " [  0  69   3]\n",
      " [  0   0 186]]\n"
     ]
    }
   ],
   "source": [
    "print('accuracy score:',accuracy_score(y_train,y_pred_train))\n",
    "print('classification_report:\\n',classification_report(y_train,y_pred_train))\n",
    "print('confusion matrix:\\n',confusion_matrix(y_train,y_pred_train))\n"
   ]
  },
  {
   "cell_type": "markdown",
   "id": "2988f9f6",
   "metadata": {},
   "source": [
    "##### Test data"
   ]
  },
  {
   "cell_type": "code",
   "execution_count": 22,
   "id": "97afadb0",
   "metadata": {
    "ExecuteTime": {
     "end_time": "2021-11-29T15:08:12.446700Z",
     "start_time": "2021-11-29T15:08:12.423556Z"
    }
   },
   "outputs": [
    {
     "name": "stdout",
     "output_type": "stream",
     "text": [
      "accuracy score: 0.6166666666666667\n",
      "classification_report:\n",
      "               precision    recall  f1-score   support\n",
      "\n",
      "           0       0.43      0.21      0.29        14\n",
      "           1       0.86      0.46      0.60        13\n",
      "           2       0.61      0.85      0.71        33\n",
      "\n",
      "    accuracy                           0.62        60\n",
      "   macro avg       0.63      0.51      0.53        60\n",
      "weighted avg       0.62      0.62      0.59        60\n",
      "\n",
      "confusion matrix:\n",
      " [[ 3  0 11]\n",
      " [ 0  6  7]\n",
      " [ 4  1 28]]\n"
     ]
    }
   ],
   "source": [
    "print('accuracy score:',accuracy_score(y_test,y_pred_test))\n",
    "print('classification_report:\\n',classification_report(y_test,y_pred_test))\n",
    "print('confusion matrix:\\n',confusion_matrix(y_test,y_pred_test))"
   ]
  },
  {
   "cell_type": "markdown",
   "id": "2c78c2ae",
   "metadata": {},
   "source": [
    "# Using Entropy criteria"
   ]
  },
  {
   "cell_type": "code",
   "execution_count": 23,
   "id": "8f6f21da",
   "metadata": {
    "ExecuteTime": {
     "end_time": "2021-11-29T15:08:54.041614Z",
     "start_time": "2021-11-29T15:08:53.960348Z"
    }
   },
   "outputs": [
    {
     "data": {
      "text/plain": [
       "RandomForestClassifier(criterion='entropy', max_depth=10, n_estimators=30)"
      ]
     },
     "execution_count": 23,
     "metadata": {},
     "output_type": "execute_result"
    }
   ],
   "source": [
    "from sklearn.ensemble import RandomForestClassifier\n",
    "rf_classifier = RandomForestClassifier(criterion= 'entropy', max_depth= 10, n_estimators= 30)\n",
    "rf_classifier.fit(X_train,y_train)"
   ]
  },
  {
   "cell_type": "markdown",
   "id": "5bbf20cc",
   "metadata": {},
   "source": [
    "# 7.Model Testing"
   ]
  },
  {
   "cell_type": "markdown",
   "id": "661402af",
   "metadata": {},
   "source": [
    "##### Training data"
   ]
  },
  {
   "cell_type": "code",
   "execution_count": 24,
   "id": "d23a7269",
   "metadata": {
    "ExecuteTime": {
     "end_time": "2021-11-29T15:09:26.404102Z",
     "start_time": "2021-11-29T15:09:26.377486Z"
    }
   },
   "outputs": [
    {
     "data": {
      "text/plain": [
       "array([0, 0, 2, 0, 2, 2, 1, 1, 1, 1, 2, 0, 2, 2, 2, 2, 2, 2, 0, 0, 2, 0,\n",
       "       2, 2, 0, 2, 1, 1, 2, 2, 0, 1, 1, 2, 2, 2, 2, 2, 2, 0, 2, 0, 2, 0,\n",
       "       0, 2, 2, 2, 1, 2, 1, 1, 1, 2, 0, 2, 1, 2, 2, 0, 1, 0, 2, 2, 2, 2,\n",
       "       0, 1, 0, 0, 2, 2, 2, 1, 2, 0, 2, 2, 0, 1, 2, 1, 0, 2, 0, 0, 2, 1,\n",
       "       2, 1, 2, 0, 2, 0, 0, 2, 0, 1, 0, 2, 0, 2, 2, 2, 2, 0, 0, 0, 1, 1,\n",
       "       2, 2, 1, 2, 2, 2, 2, 2, 1, 0, 2, 2, 2, 2, 1, 2, 1, 2, 0, 0, 2, 0,\n",
       "       1, 0, 2, 1, 2, 0, 0, 2, 2, 2, 2, 1, 1, 2, 2, 2, 2, 2, 2, 2, 2, 2,\n",
       "       0, 2, 2, 0, 2, 1, 1, 2, 0, 0, 2, 0, 2, 1, 0, 2, 2, 2, 2, 2, 2, 2,\n",
       "       0, 0, 1, 1, 2, 1, 2, 0, 2, 2, 2, 1, 0, 0, 2, 2, 1, 2, 2, 2, 2, 2,\n",
       "       2, 2, 0, 2, 0, 0, 2, 2, 1, 2, 2, 0, 2, 2, 2, 1, 2, 0, 2, 2, 0, 2,\n",
       "       1, 2, 0, 0, 0, 2, 2, 1, 2, 2, 2, 2, 0, 2, 2, 0, 2, 2, 1, 0, 2, 2,\n",
       "       2, 2, 1, 1, 0, 2, 2, 0, 0, 1, 2, 2, 1, 2, 2, 2, 2, 2, 1, 1, 1, 2,\n",
       "       0, 2, 2, 2, 0, 2, 1, 2, 2, 2, 2, 2, 2, 0, 1, 2, 2, 0, 2, 2, 2, 2,\n",
       "       0, 0, 2, 1, 2, 2, 1, 2, 2, 0, 2, 0, 1, 0, 2, 0, 2, 2, 2, 2, 2, 0,\n",
       "       2, 1, 1, 0, 1, 2, 1, 0, 1, 2, 2, 2, 2, 1, 2, 1, 1, 1, 2, 1, 2, 2,\n",
       "       0, 1, 2, 1, 0, 2, 1, 2, 1, 2])"
      ]
     },
     "execution_count": 24,
     "metadata": {},
     "output_type": "execute_result"
    }
   ],
   "source": [
    "y_pred_train_en = rf_classifier.predict(X_train)\n",
    "y_pred_train_en"
   ]
  },
  {
   "cell_type": "markdown",
   "id": "9c0c0e7b",
   "metadata": {},
   "source": [
    "##### Test data"
   ]
  },
  {
   "cell_type": "code",
   "execution_count": 25,
   "id": "2bb018b1",
   "metadata": {
    "ExecuteTime": {
     "end_time": "2021-11-29T15:09:35.108771Z",
     "start_time": "2021-11-29T15:09:35.081579Z"
    }
   },
   "outputs": [
    {
     "data": {
      "text/plain": [
       "array([2, 2, 2, 2, 2, 2, 2, 2, 2, 2, 2, 2, 2, 2, 2, 2, 2, 0, 1, 2, 2, 2,\n",
       "       2, 2, 1, 2, 2, 2, 2, 2, 2, 1, 0, 2, 2, 2, 0, 2, 2, 2, 1, 1, 2, 2,\n",
       "       1, 0, 2, 2, 2, 2, 1, 2, 2, 2, 2, 2, 0, 0, 2, 2])"
      ]
     },
     "execution_count": 25,
     "metadata": {},
     "output_type": "execute_result"
    }
   ],
   "source": [
    "y_pred_test_en = rf_classifier.predict(X_test)\n",
    "y_pred_test_en"
   ]
  },
  {
   "cell_type": "markdown",
   "id": "93872a60",
   "metadata": {},
   "source": [
    "## 7. Model Evaluation"
   ]
  },
  {
   "cell_type": "code",
   "execution_count": 19,
   "id": "d98b2b2f",
   "metadata": {
    "ExecuteTime": {
     "end_time": "2021-11-29T15:07:28.591132Z",
     "start_time": "2021-11-29T15:07:28.585142Z"
    }
   },
   "outputs": [],
   "source": [
    "from sklearn.metrics import accuracy_score,precision_score,recall_score,r2_score,confusion_matrix,roc_auc_score,classification_report"
   ]
  },
  {
   "cell_type": "markdown",
   "id": "8acd9505",
   "metadata": {},
   "source": [
    "##### Training data"
   ]
  },
  {
   "cell_type": "code",
   "execution_count": 26,
   "id": "651ceb63",
   "metadata": {
    "ExecuteTime": {
     "end_time": "2021-11-29T15:09:52.231408Z",
     "start_time": "2021-11-29T15:09:52.218416Z"
    }
   },
   "outputs": [
    {
     "name": "stdout",
     "output_type": "stream",
     "text": [
      "accuracy score: 0.9911764705882353\n",
      "classification_report:\n",
      "               precision    recall  f1-score   support\n",
      "\n",
      "           0       1.00      0.99      0.99        82\n",
      "           1       1.00      0.97      0.99        72\n",
      "           2       0.98      1.00      0.99       186\n",
      "\n",
      "    accuracy                           0.99       340\n",
      "   macro avg       0.99      0.99      0.99       340\n",
      "weighted avg       0.99      0.99      0.99       340\n",
      "\n",
      "confusion matrix:\n",
      " [[ 81   0   1]\n",
      " [  0  70   2]\n",
      " [  0   0 186]]\n"
     ]
    }
   ],
   "source": [
    "print('accuracy score:',accuracy_score(y_train,y_pred_train_en))\n",
    "print('classification_report:\\n',classification_report(y_train,y_pred_train_en))\n",
    "print('confusion matrix:\\n',confusion_matrix(y_train,y_pred_train_en))\n"
   ]
  },
  {
   "cell_type": "markdown",
   "id": "8c89a141",
   "metadata": {},
   "source": [
    "##### Test data"
   ]
  },
  {
   "cell_type": "code",
   "execution_count": 27,
   "id": "85c5bd7e",
   "metadata": {
    "ExecuteTime": {
     "end_time": "2021-11-29T15:10:14.694797Z",
     "start_time": "2021-11-29T15:10:14.680865Z"
    }
   },
   "outputs": [
    {
     "name": "stdout",
     "output_type": "stream",
     "text": [
      "accuracy score: 0.65\n",
      "classification_report:\n",
      "               precision    recall  f1-score   support\n",
      "\n",
      "           0       0.50      0.21      0.30        14\n",
      "           1       0.86      0.46      0.60        13\n",
      "           2       0.64      0.91      0.75        33\n",
      "\n",
      "    accuracy                           0.65        60\n",
      "   macro avg       0.67      0.53      0.55        60\n",
      "weighted avg       0.65      0.65      0.61        60\n",
      "\n",
      "confusion matrix:\n",
      " [[ 3  1 10]\n",
      " [ 0  6  7]\n",
      " [ 3  0 30]]\n"
     ]
    }
   ],
   "source": [
    "print('accuracy score:',accuracy_score(y_test,y_pred_test_en))\n",
    "print('classification_report:\\n',classification_report(y_test,y_pred_test_en))\n",
    "print('confusion matrix:\\n',confusion_matrix(y_test,y_pred_test_en))"
   ]
  },
  {
   "cell_type": "code",
   "execution_count": null,
   "id": "1ceb7acf",
   "metadata": {},
   "outputs": [],
   "source": []
  }
 ],
 "metadata": {
  "kernelspec": {
   "display_name": "Python 3",
   "language": "python",
   "name": "python3"
  },
  "language_info": {
   "codemirror_mode": {
    "name": "ipython",
    "version": 3
   },
   "file_extension": ".py",
   "mimetype": "text/x-python",
   "name": "python",
   "nbconvert_exporter": "python",
   "pygments_lexer": "ipython3",
   "version": "3.8.8"
  },
  "varInspector": {
   "cols": {
    "lenName": 16,
    "lenType": 16,
    "lenVar": 40
   },
   "kernels_config": {
    "python": {
     "delete_cmd_postfix": "",
     "delete_cmd_prefix": "del ",
     "library": "var_list.py",
     "varRefreshCmd": "print(var_dic_list())"
    },
    "r": {
     "delete_cmd_postfix": ") ",
     "delete_cmd_prefix": "rm(",
     "library": "var_list.r",
     "varRefreshCmd": "cat(var_dic_list()) "
    }
   },
   "types_to_exclude": [
    "module",
    "function",
    "builtin_function_or_method",
    "instance",
    "_Feature"
   ],
   "window_display": false
  }
 },
 "nbformat": 4,
 "nbformat_minor": 5
}
