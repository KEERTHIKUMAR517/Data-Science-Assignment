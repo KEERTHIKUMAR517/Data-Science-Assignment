{
 "cells": [
  {
   "cell_type": "code",
   "execution_count": 1,
   "id": "c2cc3b6a",
   "metadata": {
    "ExecuteTime": {
     "end_time": "2021-11-15T17:25:13.788091Z",
     "start_time": "2021-11-15T17:25:12.930617Z"
    }
   },
   "outputs": [],
   "source": [
    "import pandas as pd\n",
    "from scipy import stats"
   ]
  },
  {
   "cell_type": "markdown",
   "id": "a6ce7977",
   "metadata": {},
   "source": [
    "# Q3."
   ]
  },
  {
   "cell_type": "code",
   "execution_count": 2,
   "id": "cfce9987",
   "metadata": {
    "ExecuteTime": {
     "end_time": "2021-11-15T17:25:27.694588Z",
     "start_time": "2021-11-15T17:25:27.664670Z"
    }
   },
   "outputs": [
    {
     "data": {
      "text/html": [
       "<div>\n",
       "<style scoped>\n",
       "    .dataframe tbody tr th:only-of-type {\n",
       "        vertical-align: middle;\n",
       "    }\n",
       "\n",
       "    .dataframe tbody tr th {\n",
       "        vertical-align: top;\n",
       "    }\n",
       "\n",
       "    .dataframe thead th {\n",
       "        text-align: right;\n",
       "    }\n",
       "</style>\n",
       "<table border=\"1\" class=\"dataframe\">\n",
       "  <thead>\n",
       "    <tr style=\"text-align: right;\">\n",
       "      <th></th>\n",
       "      <th>Observed Values</th>\n",
       "      <th>East</th>\n",
       "      <th>West</th>\n",
       "      <th>North</th>\n",
       "      <th>South</th>\n",
       "    </tr>\n",
       "  </thead>\n",
       "  <tbody>\n",
       "    <tr>\n",
       "      <th>0</th>\n",
       "      <td>Males</td>\n",
       "      <td>50</td>\n",
       "      <td>142</td>\n",
       "      <td>131</td>\n",
       "      <td>70</td>\n",
       "    </tr>\n",
       "    <tr>\n",
       "      <th>1</th>\n",
       "      <td>Females</td>\n",
       "      <td>435</td>\n",
       "      <td>1523</td>\n",
       "      <td>1356</td>\n",
       "      <td>750</td>\n",
       "    </tr>\n",
       "  </tbody>\n",
       "</table>\n",
       "</div>"
      ],
      "text/plain": [
       "  Observed Values  East  West  North  South\n",
       "0           Males    50   142    131     70\n",
       "1         Females   435  1523   1356    750"
      ]
     },
     "execution_count": 2,
     "metadata": {},
     "output_type": "execute_result"
    }
   ],
   "source": [
    "buyer = pd.read_csv('BuyerRatio.csv')\n",
    "buyer"
   ]
  },
  {
   "cell_type": "markdown",
   "id": "af0e4b4d",
   "metadata": {},
   "source": [
    "## Chi square Test\n",
    "### H0: P1 = P2 = P3 = P4\n",
    "### H1: There is  significant difference with atleast one of buyer rations"
   ]
  },
  {
   "cell_type": "code",
   "execution_count": 3,
   "id": "3c0e3ce1",
   "metadata": {
    "ExecuteTime": {
     "end_time": "2021-11-15T17:25:45.952117Z",
     "start_time": "2021-11-15T17:25:45.935470Z"
    }
   },
   "outputs": [
    {
     "data": {
      "text/html": [
       "<div>\n",
       "<style scoped>\n",
       "    .dataframe tbody tr th:only-of-type {\n",
       "        vertical-align: middle;\n",
       "    }\n",
       "\n",
       "    .dataframe tbody tr th {\n",
       "        vertical-align: top;\n",
       "    }\n",
       "\n",
       "    .dataframe thead th {\n",
       "        text-align: right;\n",
       "    }\n",
       "</style>\n",
       "<table border=\"1\" class=\"dataframe\">\n",
       "  <thead>\n",
       "    <tr style=\"text-align: right;\">\n",
       "      <th></th>\n",
       "      <th>East</th>\n",
       "      <th>West</th>\n",
       "      <th>North</th>\n",
       "      <th>South</th>\n",
       "    </tr>\n",
       "  </thead>\n",
       "  <tbody>\n",
       "    <tr>\n",
       "      <th>0</th>\n",
       "      <td>50</td>\n",
       "      <td>142</td>\n",
       "      <td>131</td>\n",
       "      <td>70</td>\n",
       "    </tr>\n",
       "    <tr>\n",
       "      <th>1</th>\n",
       "      <td>435</td>\n",
       "      <td>1523</td>\n",
       "      <td>1356</td>\n",
       "      <td>750</td>\n",
       "    </tr>\n",
       "  </tbody>\n",
       "</table>\n",
       "</div>"
      ],
      "text/plain": [
       "   East  West  North  South\n",
       "0    50   142    131     70\n",
       "1   435  1523   1356    750"
      ]
     },
     "execution_count": 3,
     "metadata": {},
     "output_type": "execute_result"
    }
   ],
   "source": [
    "buyer_table = buyer.iloc[:,1:]\n",
    "buyer_table"
   ]
  },
  {
   "cell_type": "code",
   "execution_count": 4,
   "id": "f8efc47e",
   "metadata": {
    "ExecuteTime": {
     "end_time": "2021-11-15T17:25:51.915811Z",
     "start_time": "2021-11-15T17:25:51.904800Z"
    }
   },
   "outputs": [
    {
     "data": {
      "text/plain": [
       "East     int64\n",
       "West     int64\n",
       "North    int64\n",
       "South    int64\n",
       "dtype: object"
      ]
     },
     "execution_count": 4,
     "metadata": {},
     "output_type": "execute_result"
    }
   ],
   "source": [
    "buyer_table.dtypes"
   ]
  },
  {
   "cell_type": "code",
   "execution_count": 5,
   "id": "97218419",
   "metadata": {
    "ExecuteTime": {
     "end_time": "2021-11-15T17:25:58.575574Z",
     "start_time": "2021-11-15T17:25:58.559617Z"
    }
   },
   "outputs": [
    {
     "data": {
      "text/plain": [
       "array([[  50,  142,  131,   70],\n",
       "       [ 435, 1523, 1356,  750]], dtype=int64)"
      ]
     },
     "execution_count": 5,
     "metadata": {},
     "output_type": "execute_result"
    }
   ],
   "source": [
    "buyer_table.values"
   ]
  },
  {
   "cell_type": "code",
   "execution_count": 6,
   "id": "eec16572",
   "metadata": {
    "ExecuteTime": {
     "end_time": "2021-11-15T17:26:05.208532Z",
     "start_time": "2021-11-15T17:26:05.200559Z"
    }
   },
   "outputs": [],
   "source": [
    "chi2_score,pval,dof,expected_table = stats.chi2_contingency(buyer_table)"
   ]
  },
  {
   "cell_type": "code",
   "execution_count": 7,
   "id": "a385ac92",
   "metadata": {
    "ExecuteTime": {
     "end_time": "2021-11-15T17:26:30.012592Z",
     "start_time": "2021-11-15T17:26:30.000662Z"
    }
   },
   "outputs": [
    {
     "name": "stdout",
     "output_type": "stream",
     "text": [
      "Chi-squared value :  1.59595\n",
      "P-val             :  0.66031\n",
      "Degree of Freedom :  3\n",
      "Expected Table    :\n",
      " [[  42.76531299  146.81287862  131.11756787   72.30424052]\n",
      " [ 442.23468701 1518.18712138 1355.88243213  747.69575948]]\n"
     ]
    }
   ],
   "source": [
    "print('Chi-squared value : ',round(chi2_score,5))\n",
    "print('P-val             : ',round(pval,5))\n",
    "print('Degree of Freedom : ',dof)\n",
    "print('Expected Table    :\\n',expected_table)"
   ]
  },
  {
   "cell_type": "code",
   "execution_count": 8,
   "id": "c1291350",
   "metadata": {
    "ExecuteTime": {
     "end_time": "2021-11-15T17:26:36.318572Z",
     "start_time": "2021-11-15T17:26:36.305689Z"
    }
   },
   "outputs": [
    {
     "name": "stdout",
     "output_type": "stream",
     "text": [
      "There is  significant difference with atleast one of buyer rations\n"
     ]
    }
   ],
   "source": [
    "if pval <= 0.05:\n",
    "    print('1 = P2 = P3 = P4')\n",
    "else:\n",
    "    print('There is  significant difference with atleast one of buyer rations')"
   ]
  },
  {
   "cell_type": "code",
   "execution_count": null,
   "id": "f779171c",
   "metadata": {},
   "outputs": [],
   "source": []
  }
 ],
 "metadata": {
  "kernelspec": {
   "display_name": "Python 3",
   "language": "python",
   "name": "python3"
  },
  "language_info": {
   "codemirror_mode": {
    "name": "ipython",
    "version": 3
   },
   "file_extension": ".py",
   "mimetype": "text/x-python",
   "name": "python",
   "nbconvert_exporter": "python",
   "pygments_lexer": "ipython3",
   "version": "3.8.8"
  },
  "varInspector": {
   "cols": {
    "lenName": 16,
    "lenType": 16,
    "lenVar": 40
   },
   "kernels_config": {
    "python": {
     "delete_cmd_postfix": "",
     "delete_cmd_prefix": "del ",
     "library": "var_list.py",
     "varRefreshCmd": "print(var_dic_list())"
    },
    "r": {
     "delete_cmd_postfix": ") ",
     "delete_cmd_prefix": "rm(",
     "library": "var_list.r",
     "varRefreshCmd": "cat(var_dic_list()) "
    }
   },
   "types_to_exclude": [
    "module",
    "function",
    "builtin_function_or_method",
    "instance",
    "_Feature"
   ],
   "window_display": false
  }
 },
 "nbformat": 4,
 "nbformat_minor": 5
}
